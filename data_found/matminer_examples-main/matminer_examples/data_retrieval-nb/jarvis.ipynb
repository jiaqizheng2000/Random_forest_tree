{
 "cells": [
  {
   "cell_type": "markdown",
   "metadata": {},
   "source": [
    "# Interacting with Jarvis via MDF Search\n",
    "This notebook shows some examples for employing [matminer](https://github.com/hackingmaterials/matminer) to  to visualize data in [JARVIS](https://www.ctcms.nist.gov/~knc6/JVASP.html) and to screen that database for interesting materials. Uses the version of JARVIS available in the [Materials Data Facility](http://materialsdatafacility.org).\n",
    "\n",
    "Last tested with matminer v0.4.5"
   ]
  },
  {
   "cell_type": "code",
   "execution_count": 1,
   "metadata": {
    "collapsed": true
   },
   "outputs": [],
   "source": [
    "%matplotlib inline\n",
    "\n",
    "import itertools\n",
    "\n",
    "import numpy as np\n",
    "import pandas as pd\n",
    "from matplotlib import pyplot as plt\n",
    "from matplotlib.colors import LogNorm\n",
    "from matminer.data_retrieval.retrieve_MDF import MDFDataRetrieval"
   ]
  },
  {
   "cell_type": "markdown",
   "metadata": {},
   "source": [
    "## Get Jarvis Data\n",
    "Connect to the MDF and download all the data from Jarvis, which is also available on [GitHub](https://github.com/usnistgov/jarvis/blob/master/jarvis/db/static/explore_db.py)."
   ]
  },
  {
   "cell_type": "markdown",
   "metadata": {},
   "source": [
    "### Download the Data\n",
    "We first create an instance of Matminer's MDFDataRetrieval, which simplifies performing search queries against the MDF."
   ]
  },
  {
   "cell_type": "code",
   "execution_count": 2,
   "metadata": {
    "collapsed": true
   },
   "outputs": [],
   "source": [
    "mdf = MDFDataRetrieval(anonymous=True)"
   ]
  },
  {
   "cell_type": "markdown",
   "metadata": {},
   "source": [
    "Get the version number of the current Jarvis dataset"
   ]
  },
  {
   "cell_type": "code",
   "execution_count": 3,
   "metadata": {},
   "outputs": [
    {
     "name": "stderr",
     "output_type": "stream",
     "text": [
      "100%|█████████████████████████████████████████████████████████████████████████████████████████████████████████████████████████████████████████████████████████████████████████████████████| 26559/26559 [00:38<00:00, 690.45it/s]\n"
     ]
    },
    {
     "name": "stdout",
     "output_type": "stream",
     "text": [
      "Found 26559 compounds\n"
     ]
    }
   ],
   "source": [
    "query_string = 'mdf.source_name:jarvis AND mdf.resource_type:record'\n",
    "data = mdf.get_data(query_string, unwind_arrays=False)\n",
    "print('Found {} compounds'.format(len(data)))"
   ]
  },
  {
   "cell_type": "markdown",
   "metadata": {},
   "source": [
    "Each record contains a high-level description of the kind of data held in Jarvis, as well as the values for commonly used properties"
   ]
  },
  {
   "cell_type": "code",
   "execution_count": 4,
   "metadata": {},
   "outputs": [
    {
     "data": {
      "text/html": [
       "<div>\n",
       "<style scoped>\n",
       "    .dataframe tbody tr th:only-of-type {\n",
       "        vertical-align: middle;\n",
       "    }\n",
       "\n",
       "    .dataframe tbody tr th {\n",
       "        vertical-align: top;\n",
       "    }\n",
       "\n",
       "    .dataframe thead th {\n",
       "        text-align: right;\n",
       "    }\n",
       "</style>\n",
       "<table border=\"1\" class=\"dataframe\">\n",
       "  <thead>\n",
       "    <tr style=\"text-align: right;\">\n",
       "      <th></th>\n",
       "      <th>crystal_structure.number_of_atoms</th>\n",
       "      <th>crystal_structure.space_group_number</th>\n",
       "      <th>crystal_structure.volume</th>\n",
       "      <th>dft.converged</th>\n",
       "      <th>dft.cutoff_energy</th>\n",
       "      <th>files</th>\n",
       "      <th>jarvis.band_gap.mbj</th>\n",
       "      <th>jarvis.band_gap.optb88vdw</th>\n",
       "      <th>jarvis.crossreference.materials_project</th>\n",
       "      <th>jarvis.dimensionality</th>\n",
       "      <th>...</th>\n",
       "      <th>material.composition</th>\n",
       "      <th>material.elements</th>\n",
       "      <th>mdf.ingest_date</th>\n",
       "      <th>mdf.mdf_id</th>\n",
       "      <th>mdf.parent_id</th>\n",
       "      <th>mdf.resource_type</th>\n",
       "      <th>mdf.scroll_id</th>\n",
       "      <th>mdf.source_id</th>\n",
       "      <th>mdf.source_name</th>\n",
       "      <th>mdf.version</th>\n",
       "    </tr>\n",
       "  </thead>\n",
       "  <tbody>\n",
       "    <tr>\n",
       "      <th>0</th>\n",
       "      <td>16</td>\n",
       "      <td>193</td>\n",
       "      <td>181.081747</td>\n",
       "      <td>True</td>\n",
       "      <td>1200.0</td>\n",
       "      <td>[{'data_type': 'ASCII text, with very long lin...</td>\n",
       "      <td>NaN</td>\n",
       "      <td>0.0068</td>\n",
       "      <td>mp-1111</td>\n",
       "      <td>3d</td>\n",
       "      <td>...</td>\n",
       "      <td>Mn5Si3</td>\n",
       "      <td>[Mn, Si]</td>\n",
       "      <td>2018-11-13T16:44:17.471796Z</td>\n",
       "      <td>5beaffa52ef38879b395505a</td>\n",
       "      <td>5beaff612ef38879b3953c09</td>\n",
       "      <td>record</td>\n",
       "      <td>5201</td>\n",
       "      <td>jarvis_v1</td>\n",
       "      <td>jarvis</td>\n",
       "      <td>1</td>\n",
       "    </tr>\n",
       "    <tr>\n",
       "      <th>1</th>\n",
       "      <td>8</td>\n",
       "      <td>166</td>\n",
       "      <td>121.654162</td>\n",
       "      <td>True</td>\n",
       "      <td>850.0</td>\n",
       "      <td>[{'data_type': 'ASCII text, with very long lin...</td>\n",
       "      <td>2.1427</td>\n",
       "      <td>2.0025</td>\n",
       "      <td>mp-12442</td>\n",
       "      <td>3d</td>\n",
       "      <td>...</td>\n",
       "      <td>KAuF6</td>\n",
       "      <td>[Au, F, K]</td>\n",
       "      <td>2018-11-13T16:44:17.471796Z</td>\n",
       "      <td>5beaffa52ef38879b3955061</td>\n",
       "      <td>5beaff612ef38879b3953c09</td>\n",
       "      <td>record</td>\n",
       "      <td>5208</td>\n",
       "      <td>jarvis_v1</td>\n",
       "      <td>jarvis</td>\n",
       "      <td>1</td>\n",
       "    </tr>\n",
       "  </tbody>\n",
       "</table>\n",
       "<p>2 rows × 26 columns</p>\n",
       "</div>"
      ],
      "text/plain": [
       "   crystal_structure.number_of_atoms  crystal_structure.space_group_number  \\\n",
       "0                                 16                                   193   \n",
       "1                                  8                                   166   \n",
       "\n",
       "   crystal_structure.volume  dft.converged  dft.cutoff_energy  \\\n",
       "0                181.081747           True             1200.0   \n",
       "1                121.654162           True              850.0   \n",
       "\n",
       "                                               files  jarvis.band_gap.mbj  \\\n",
       "0  [{'data_type': 'ASCII text, with very long lin...                  NaN   \n",
       "1  [{'data_type': 'ASCII text, with very long lin...               2.1427   \n",
       "\n",
       "   jarvis.band_gap.optb88vdw jarvis.crossreference.materials_project  \\\n",
       "0                     0.0068                                 mp-1111   \n",
       "1                     2.0025                                mp-12442   \n",
       "\n",
       "  jarvis.dimensionality     ...      material.composition  material.elements  \\\n",
       "0                    3d     ...                    Mn5Si3           [Mn, Si]   \n",
       "1                    3d     ...                     KAuF6         [Au, F, K]   \n",
       "\n",
       "               mdf.ingest_date                mdf.mdf_id  \\\n",
       "0  2018-11-13T16:44:17.471796Z  5beaffa52ef38879b395505a   \n",
       "1  2018-11-13T16:44:17.471796Z  5beaffa52ef38879b3955061   \n",
       "\n",
       "              mdf.parent_id  mdf.resource_type mdf.scroll_id mdf.source_id  \\\n",
       "0  5beaff612ef38879b3953c09             record          5201     jarvis_v1   \n",
       "1  5beaff612ef38879b3953c09             record          5208     jarvis_v1   \n",
       "\n",
       "  mdf.source_name mdf.version  \n",
       "0          jarvis           1  \n",
       "1          jarvis           1  \n",
       "\n",
       "[2 rows x 26 columns]"
      ]
     },
     "execution_count": 4,
     "metadata": {},
     "output_type": "execute_result"
    }
   ],
   "source": [
    "data.head(2)"
   ]
  },
  {
   "cell_type": "code",
   "execution_count": 5,
   "metadata": {},
   "outputs": [
    {
     "data": {
      "text/plain": [
       "Index(['crystal_structure.number_of_atoms',\n",
       "       'crystal_structure.space_group_number', 'crystal_structure.volume',\n",
       "       'dft.converged', 'dft.cutoff_energy', 'files', 'jarvis.band_gap.mbj',\n",
       "       'jarvis.band_gap.optb88vdw', 'jarvis.crossreference.materials_project',\n",
       "       'jarvis.dimensionality', 'jarvis.elastic_moduli.bulk',\n",
       "       'jarvis.elastic_moduli.shear', 'jarvis.formation_enthalpy', 'jarvis.id',\n",
       "       'jarvis.landing_page', 'jarvis.total_energy', 'material.composition',\n",
       "       'material.elements', 'mdf.ingest_date', 'mdf.mdf_id', 'mdf.parent_id',\n",
       "       'mdf.resource_type', 'mdf.scroll_id', 'mdf.source_id',\n",
       "       'mdf.source_name', 'mdf.version'],\n",
       "      dtype='object')"
      ]
     },
     "execution_count": 5,
     "metadata": {},
     "output_type": "execute_result"
    }
   ],
   "source": [
    "data.columns"
   ]
  },
  {
   "cell_type": "markdown",
   "metadata": {},
   "source": [
    "## Make Some Simple Plots\n",
    "Showcase what kind of data is available in JARVIS."
   ]
  },
  {
   "cell_type": "markdown",
   "metadata": {},
   "source": [
    "### How many compounds are 2D?\n",
    "Just figure out how many compounds are from the 2D vs the 3D dataset"
   ]
  },
  {
   "cell_type": "code",
   "execution_count": 6,
   "metadata": {},
   "outputs": [
    {
     "data": {
      "image/png": "[encoded data removed]",
      "text/plain": [
       "<Figure size 216x216 with 1 Axes>"
      ]
     },
     "metadata": {},
     "output_type": "display_data"
    }
   ],
   "source": [
    "fig, ax = plt.subplots()\n",
    "\n",
    "counts = data['jarvis.dimensionality'].value_counts()\n",
    "ax.pie(counts, explode=[0, 0.1], labels=counts.index, autopct='%1.1f%%',\n",
    "        shadow=True, startangle=90)\n",
    "\n",
    "fig.set_size_inches(3, 3)\n",
    "fig.tight_layout()"
   ]
  },
  {
   "cell_type": "markdown",
   "metadata": {},
   "source": [
    "### How are the spacegroups distributed?\n",
    "How are the entries distributed throughout the 230 spacegroups?"
   ]
  },
  {
   "cell_type": "code",
   "execution_count": 7,
   "metadata": {},
   "outputs": [
    {
     "data": {
      "text/plain": [
       "(1, 231)"
      ]
     },
     "execution_count": 7,
     "metadata": {},
     "output_type": "execute_result"
    },
    {
     "data": {
      "image/png": "[encoded data removed]",
      "text/plain": [
       "<Figure size 432x288 with 1 Axes>"
      ]
     },
     "metadata": {},
     "output_type": "display_data"
    }
   ],
   "source": [
    "fig, ax = plt.subplots()\n",
    "\n",
    "ax.hist(data['crystal_structure.space_group_number'], bins=range(1, 231));\n",
    "\n",
    "ax.set_xlabel('Spacegroup')\n",
    "ax.set_ylabel('Count')\n",
    "\n",
    "ax.set_xlim(1, 231)"
   ]
  },
  {
   "cell_type": "markdown",
   "metadata": {},
   "source": [
    "### Effect of Functionals on Predicted Properties\n",
    "Jarvis uses two different eXchange-Correlation (XC) functionals for computing band gap energies with DFT: optB88-vdw, and MBJ. These plots show how well they compare"
   ]
  },
  {
   "cell_type": "code",
   "execution_count": 8,
   "metadata": {},
   "outputs": [
    {
     "data": {
      "image/png": "[encoded data removed]",
      "text/plain": [
       "<Figure size 216x216 with 1 Axes>"
      ]
     },
     "metadata": {},
     "output_type": "display_data"
    }
   ],
   "source": [
    "fig, ax = plt.subplots()\n",
    "\n",
    "# Plot the two values\n",
    "ax.scatter(data['jarvis.band_gap.optb88vdw'], \n",
    "           data['jarvis.band_gap.mbj'], alpha=0.3, s=5)\n",
    "\n",
    "# Plot the equality line\n",
    "ax.set_xlim(min(ax.get_xlim()[0], ax.get_ylim()[0]), max(ax.get_xlim()[1], ax.get_ylim()[1]))\n",
    "ax.set_ylim(ax.get_xlim())\n",
    "\n",
    "ax.plot(ax.get_xlim(), ax.get_ylim(), 'k--')\n",
    "\n",
    "ax.set_xlabel('$E_g$, optB88-vdw (eV)')\n",
    "ax.set_ylabel('$E_g$, MBJ (eV)')\n",
    "\n",
    "fig.set_size_inches(3, 3)\n",
    "fig.tight_layout()"
   ]
  },
  {
   "cell_type": "markdown",
   "metadata": {},
   "source": [
    "### How related are different elastic moduli?\n",
    "Are shear and bulk moduli generally correlated?"
   ]
  },
  {
   "cell_type": "code",
   "execution_count": 9,
   "metadata": {},
   "outputs": [
    {
     "data": {
      "text/plain": [
       "Text(0,0.5,'Shear Modulus (GPa)')"
      ]
     },
     "execution_count": 9,
     "metadata": {},
     "output_type": "execute_result"
    },
    {
     "data": {
      "image/png": "[encoded data removed]",
      "text/plain": [
       "<Figure size 432x288 with 1 Axes>"
      ]
     },
     "metadata": {},
     "output_type": "display_data"
    }
   ],
   "source": [
    "fig, ax = plt.subplots()\n",
    "\n",
    "subset = data[data['jarvis.dimensionality'] == \"3d\"]\n",
    "\n",
    "ax.scatter(subset['jarvis.elastic_moduli.bulk'],\n",
    "                  subset['jarvis.elastic_moduli.shear'])\n",
    "\n",
    "ax.set_xlabel('Bulk Modulus (GPa)')\n",
    "ax.set_ylabel('Shear Modulus (GPa)')"
   ]
  },
  {
   "cell_type": "markdown",
   "metadata": {},
   "source": [
    "Same plot, minus the compounds with negative moduli"
   ]
  },
  {
   "cell_type": "code",
   "execution_count": 10,
   "metadata": {},
   "outputs": [
    {
     "data": {
      "text/plain": [
       "Text(0,0.5,'Shear Modulus (GPa)')"
      ]
     },
     "execution_count": 10,
     "metadata": {},
     "output_type": "execute_result"
    },
    {
     "data": {
      "image/png": "[encoded data removed]",
      "text/plain": [
       "<Figure size 432x288 with 1 Axes>"
      ]
     },
     "metadata": {},
     "output_type": "display_data"
    }
   ],
   "source": [
    "fig, ax = plt.subplots()\n",
    "\n",
    "subset = subset[np.logical_and(subset['jarvis.elastic_moduli.bulk'] > 0,\n",
    "                subset['jarvis.elastic_moduli.shear'] > 0)]\n",
    "\n",
    "ax.scatter(subset['jarvis.elastic_moduli.bulk'], subset['jarvis.elastic_moduli.shear'],\n",
    "          alpha=0.7)\n",
    "\n",
    "ax.set_xlabel('Bulk Modulus (GPa)')\n",
    "ax.set_ylabel('Shear Modulus (GPa)')"
   ]
  },
  {
   "cell_type": "markdown",
   "metadata": {
    "collapsed": true
   },
   "source": [
    "## Some Example Screening\n",
    "Just do demonstrate some screening that you can do with the [Forge client](https://github.com/materials-data-facility/forge), which can access via the MDFDataRetrieval object to get access to the raw data"
   ]
  },
  {
   "cell_type": "code",
   "execution_count": 11,
   "metadata": {
    "collapsed": true
   },
   "outputs": [],
   "source": [
    "screened_results = mdf.forge.aggregate('mdf.source_name:jarvis AND jarvis.band_gap.mbj:[1.1 TO 1.6] '\n",
    "                                       'AND jarvis.dimensionality:2d')"
   ]
  },
  {
   "cell_type": "markdown",
   "metadata": {},
   "source": [
    "Each record is a dictionary"
   ]
  },
  {
   "cell_type": "code",
   "execution_count": 12,
   "metadata": {},
   "outputs": [
    {
     "data": {
      "text/plain": [
       "{'crystal_structure': {'number_of_atoms': 8,\n",
       "  'space_group_number': 11,\n",
       "  'volume': 747.0360494448431},\n",
       " 'dft': {'converged': True, 'cutoff_energy': 500.0},\n",
       " 'files': [{'data_type': 'ASCII text, with very long lines, with no line terminators',\n",
       "   'filename': 'JVASP-27859.json',\n",
       "   'globus': 'globus://e38ee745-6d04-11e5-ba46-22000b92c6ec/MDF/mdf_connect/prod/data/jarvis_v1/jdft_2d-7-7-2018.json/JVASP-27859.json',\n",
       "   'length': 6117,\n",
       "   'mime_type': 'text/plain',\n",
       "   'sha512': '6d3a61ae784a9374794fda998a9cd485c8b6dfd690508b44f93e7cf1ff5f208d799e958af6e01a07d9058668bc2a01c1bc6a1664acce9b5f385f36d6883d1810',\n",
       "   'url': 'https://e38ee745-6d04-11e5-ba46-22000b92c6ec.e.globus.org/MDF/mdf_connect/prod/data/jarvis_v1/jdft_2d-7-7-2018.json/JVASP-27859.json'}],\n",
       " 'jarvis': {'band_gap': {'mbj': 1.4936, 'optb88vdw': 0.6651},\n",
       "  'crossreference': {'materials_project': 'mp-1025522'},\n",
       "  'dimensionality': '2d',\n",
       "  'formation_enthalpy': -0.923,\n",
       "  'id': 'JVASP-27859',\n",
       "  'landing_page': 'https://www.ctcms.nist.gov/~knc6/jsmol/JVASP-27859.html',\n",
       "  'total_energy': -23.657202},\n",
       " 'material': {'composition': 'ThTe3', 'elements': ['Te', 'Th']},\n",
       " 'mdf': {'ingest_date': '2018-11-13T16:44:17.471796Z',\n",
       "  'mdf_id': '5beb00b62ef38879b395a23d',\n",
       "  'parent_id': '5beaff612ef38879b3953c09',\n",
       "  'resource_type': 'record',\n",
       "  'scroll_id': 26164,\n",
       "  'source_id': 'jarvis_v1',\n",
       "  'source_name': 'jarvis',\n",
       "  'version': 1}}"
      ]
     },
     "execution_count": 12,
     "metadata": {},
     "output_type": "execute_result"
    }
   ],
   "source": [
    "screened_results[0]"
   ]
  },
  {
   "cell_type": "markdown",
   "metadata": {},
   "source": [
    "Print out some materials with band gap energies in the range desired for solar cells"
   ]
  },
  {
   "cell_type": "code",
   "execution_count": 13,
   "metadata": {},
   "outputs": [
    {
     "name": "stdout",
     "output_type": "stream",
     "text": [
      "Found 8 materials with band gaps between 1.1 and 1.6 eV:\n",
      "Composition: ThTe3 - Gap: 1.49 eV - URL: https://www.ctcms.nist.gov/~knc6/jsmol/JVASP-27859.html\n",
      "Composition: GaGeTe - Gap: 1.42 eV - URL: https://www.ctcms.nist.gov/~knc6/jsmol/JVASP-60595.html\n",
      "Composition: Bi2Te4Pb - Gap: 1.27 eV - URL: https://www.ctcms.nist.gov/~knc6/jsmol/JVASP-28130.html\n",
      "Composition: CuBi(PSe3)2 - Gap: 1.24 eV - URL: https://www.ctcms.nist.gov/~knc6/jsmol/JVASP-60464.html\n",
      "Composition: PdI2 - Gap: 1.26 eV - URL: https://www.ctcms.nist.gov/~knc6/jsmol/JVASP-60293.html\n",
      "Composition: Nb(SeBr)2 - Gap: 1.22 eV - URL: https://www.ctcms.nist.gov/~knc6/jsmol/JVASP-14420.html\n",
      "Composition: Nb(SeBr)2 - Gap: 1.20 eV - URL: https://www.ctcms.nist.gov/~knc6/jsmol/JVASP-60390.html\n",
      "Composition: Bi2PbSe4 - Gap: 1.14 eV - URL: https://www.ctcms.nist.gov/~knc6/jsmol/JVASP-28127.html\n"
     ]
    }
   ],
   "source": [
    "print('Found {} materials with band gaps between 1.1 and 1.6 eV:'.format(len(screened_results)))\n",
    "for result in screened_results:\n",
    "    print('Composition: %s - Gap: %.2f eV - URL: %s'%(result['material']['composition'],\n",
    "                                                      result['jarvis']['band_gap'].get('mbj', np.nan),\n",
    "                                                      result['jarvis']['landing_page']))"
   ]
  },
  {
   "cell_type": "code",
   "execution_count": null,
   "metadata": {
    "collapsed": true
   },
   "outputs": [],
   "source": []
  }
 ],
 "metadata": {
  "kernelspec": {
   "display_name": "Python 3",
   "language": "python",
   "name": "python3"
  },
  "language_info": {
   "codemirror_mode": {
    "name": "ipython",
    "version": 3
   },
   "file_extension": ".py",
   "mimetype": "text/x-python",
   "name": "python",
   "nbconvert_exporter": "python",
   "pygments_lexer": "ipython3",
   "version": "3.6.6"
  }
 },
 "nbformat": 4,
 "nbformat_minor": 2
}
